{
 "cells": [
  {
   "cell_type": "code",
   "execution_count": 1,
   "id": "9c9ee194",
   "metadata": {
    "_cell_guid": "b1076dfc-b9ad-4769-8c92-a6c4dae69d19",
    "_uuid": "8f2839f25d086af736a60e9eeb907d3b93b6e0e5",
    "execution": {
     "iopub.execute_input": "2025-06-01T19:11:36.714148Z",
     "iopub.status.busy": "2025-06-01T19:11:36.713819Z",
     "iopub.status.idle": "2025-06-01T19:11:44.682066Z",
     "shell.execute_reply": "2025-06-01T19:11:44.680808Z"
    },
    "papermill": {
     "duration": 7.975959,
     "end_time": "2025-06-01T19:11:44.683862",
     "exception": false,
     "start_time": "2025-06-01T19:11:36.707903",
     "status": "completed"
    },
    "tags": []
   },
   "outputs": [
    {
     "name": "stdout",
     "output_type": "stream",
     "text": [
      "/kaggle/input/house-prices-advanced-regression-techniques/sample_submission.csv\n",
      "/kaggle/input/house-prices-advanced-regression-techniques/data_description.txt\n",
      "/kaggle/input/house-prices-advanced-regression-techniques/train.csv\n",
      "/kaggle/input/house-prices-advanced-regression-techniques/test.csv\n"
     ]
    }
   ],
   "source": [
    "import numpy as np \n",
    "import pandas as pd \n",
    "import torch\n",
    "from torch.utils.data import DataLoader,TensorDataset\n",
    "from torch import nn\n",
    "import matplotlib.pyplot as plt\n",
    "import os\n",
    "for dirname, _, filenames in os.walk('/kaggle/input'):\n",
    "    for filename in filenames:\n",
    "        print(os.path.join(dirname, filename))"
   ]
  },
  {
   "cell_type": "code",
   "execution_count": 2,
   "id": "377cf475",
   "metadata": {
    "execution": {
     "iopub.execute_input": "2025-06-01T19:11:44.693322Z",
     "iopub.status.busy": "2025-06-01T19:11:44.692904Z",
     "iopub.status.idle": "2025-06-01T19:11:44.782139Z",
     "shell.execute_reply": "2025-06-01T19:11:44.781243Z"
    },
    "papermill": {
     "duration": 0.095761,
     "end_time": "2025-06-01T19:11:44.783874",
     "exception": false,
     "start_time": "2025-06-01T19:11:44.688113",
     "status": "completed"
    },
    "tags": []
   },
   "outputs": [],
   "source": [
    "train_data = pd.read_csv('/kaggle/input/house-prices-advanced-regression-techniques/train.csv')\n",
    "test_data = pd.read_csv('/kaggle/input/house-prices-advanced-regression-techniques/test.csv')"
   ]
  },
  {
   "cell_type": "code",
   "execution_count": 3,
   "id": "b4fc0298",
   "metadata": {
    "execution": {
     "iopub.execute_input": "2025-06-01T19:11:44.794271Z",
     "iopub.status.busy": "2025-06-01T19:11:44.793405Z",
     "iopub.status.idle": "2025-06-01T19:11:44.799022Z",
     "shell.execute_reply": "2025-06-01T19:11:44.797808Z"
    },
    "papermill": {
     "duration": 0.012692,
     "end_time": "2025-06-01T19:11:44.800811",
     "exception": false,
     "start_time": "2025-06-01T19:11:44.788119",
     "status": "completed"
    },
    "tags": []
   },
   "outputs": [
    {
     "name": "stdout",
     "output_type": "stream",
     "text": [
      "(1460, 81)\n",
      "(1459, 80)\n"
     ]
    }
   ],
   "source": [
    "print(train_data.shape)\n",
    "print(test_data.shape)"
   ]
  },
  {
   "cell_type": "code",
   "execution_count": 4,
   "id": "2d6da5f5",
   "metadata": {
    "execution": {
     "iopub.execute_input": "2025-06-01T19:11:44.810174Z",
     "iopub.status.busy": "2025-06-01T19:11:44.809857Z",
     "iopub.status.idle": "2025-06-01T19:11:44.836570Z",
     "shell.execute_reply": "2025-06-01T19:11:44.835469Z"
    },
    "papermill": {
     "duration": 0.033518,
     "end_time": "2025-06-01T19:11:44.838357",
     "exception": false,
     "start_time": "2025-06-01T19:11:44.804839",
     "status": "completed"
    },
    "tags": []
   },
   "outputs": [
    {
     "name": "stdout",
     "output_type": "stream",
     "text": [
      "   Id  MSSubClass MSZoning  LotFrontage  LotArea Street Alley LotShape  \\\n",
      "0   1          60       RL         65.0     8450   Pave   NaN      Reg   \n",
      "1   2          20       RL         80.0     9600   Pave   NaN      Reg   \n",
      "2   3          60       RL         68.0    11250   Pave   NaN      IR1   \n",
      "3   4          70       RL         60.0     9550   Pave   NaN      IR1   \n",
      "4   5          60       RL         84.0    14260   Pave   NaN      IR1   \n",
      "\n",
      "  LandContour Utilities  ... PoolArea PoolQC Fence MiscFeature MiscVal MoSold  \\\n",
      "0         Lvl    AllPub  ...        0    NaN   NaN         NaN       0      2   \n",
      "1         Lvl    AllPub  ...        0    NaN   NaN         NaN       0      5   \n",
      "2         Lvl    AllPub  ...        0    NaN   NaN         NaN       0      9   \n",
      "3         Lvl    AllPub  ...        0    NaN   NaN         NaN       0      2   \n",
      "4         Lvl    AllPub  ...        0    NaN   NaN         NaN       0     12   \n",
      "\n",
      "  YrSold  SaleType  SaleCondition  SalePrice  \n",
      "0   2008        WD         Normal     208500  \n",
      "1   2007        WD         Normal     181500  \n",
      "2   2008        WD         Normal     223500  \n",
      "3   2006        WD        Abnorml     140000  \n",
      "4   2008        WD         Normal     250000  \n",
      "\n",
      "[5 rows x 81 columns]\n"
     ]
    }
   ],
   "source": [
    "print(train_data[:5])"
   ]
  },
  {
   "cell_type": "code",
   "execution_count": 5,
   "id": "73af3789",
   "metadata": {
    "execution": {
     "iopub.execute_input": "2025-06-01T19:11:44.847789Z",
     "iopub.status.busy": "2025-06-01T19:11:44.847479Z",
     "iopub.status.idle": "2025-06-01T19:11:44.862430Z",
     "shell.execute_reply": "2025-06-01T19:11:44.861337Z"
    },
    "papermill": {
     "duration": 0.021653,
     "end_time": "2025-06-01T19:11:44.864286",
     "exception": false,
     "start_time": "2025-06-01T19:11:44.842633",
     "status": "completed"
    },
    "tags": []
   },
   "outputs": [],
   "source": [
    "all_features = pd.concat((train_data.iloc[:,1:],test_data.iloc[:,1:]))"
   ]
  },
  {
   "cell_type": "code",
   "execution_count": 6,
   "id": "1b06b76a",
   "metadata": {
    "execution": {
     "iopub.execute_input": "2025-06-01T19:11:44.874452Z",
     "iopub.status.busy": "2025-06-01T19:11:44.874080Z",
     "iopub.status.idle": "2025-06-01T19:11:44.879611Z",
     "shell.execute_reply": "2025-06-01T19:11:44.878430Z"
    },
    "papermill": {
     "duration": 0.012381,
     "end_time": "2025-06-01T19:11:44.881196",
     "exception": false,
     "start_time": "2025-06-01T19:11:44.868815",
     "status": "completed"
    },
    "tags": []
   },
   "outputs": [
    {
     "name": "stdout",
     "output_type": "stream",
     "text": [
      "(2919, 80)\n"
     ]
    }
   ],
   "source": [
    "print(all_features.shape)"
   ]
  },
  {
   "cell_type": "code",
   "execution_count": 7,
   "id": "da2c0b76",
   "metadata": {
    "execution": {
     "iopub.execute_input": "2025-06-01T19:11:44.890473Z",
     "iopub.status.busy": "2025-06-01T19:11:44.890135Z",
     "iopub.status.idle": "2025-06-01T19:11:44.920943Z",
     "shell.execute_reply": "2025-06-01T19:11:44.919769Z"
    },
    "papermill": {
     "duration": 0.037388,
     "end_time": "2025-06-01T19:11:44.922714",
     "exception": false,
     "start_time": "2025-06-01T19:11:44.885326",
     "status": "completed"
    },
    "tags": []
   },
   "outputs": [],
   "source": [
    "numeric_features = all_features.dtypes[all_features.dtypes != 'object'].index\n",
    "all_features[numeric_features] = all_features[numeric_features].apply(lambda x: (x-x.mean())/x.std())\n",
    "all_features[numeric_features] = all_features[numeric_features].fillna(0)"
   ]
  },
  {
   "cell_type": "code",
   "execution_count": 8,
   "id": "fb09abc8",
   "metadata": {
    "execution": {
     "iopub.execute_input": "2025-06-01T19:11:44.932240Z",
     "iopub.status.busy": "2025-06-01T19:11:44.931922Z",
     "iopub.status.idle": "2025-06-01T19:11:44.991189Z",
     "shell.execute_reply": "2025-06-01T19:11:44.990063Z"
    },
    "papermill": {
     "duration": 0.066256,
     "end_time": "2025-06-01T19:11:44.993093",
     "exception": false,
     "start_time": "2025-06-01T19:11:44.926837",
     "status": "completed"
    },
    "tags": []
   },
   "outputs": [
    {
     "name": "stdout",
     "output_type": "stream",
     "text": [
      "(2919, 331)\n"
     ]
    }
   ],
   "source": [
    "all_features = pd.get_dummies(all_features,dummy_na=True)\n",
    "all_features = all_features.astype(np.float32)\n",
    "print(all_features.shape)"
   ]
  },
  {
   "cell_type": "code",
   "execution_count": 9,
   "id": "b4665698",
   "metadata": {
    "execution": {
     "iopub.execute_input": "2025-06-01T19:11:45.002456Z",
     "iopub.status.busy": "2025-06-01T19:11:45.002126Z",
     "iopub.status.idle": "2025-06-01T19:11:45.053055Z",
     "shell.execute_reply": "2025-06-01T19:11:45.052132Z"
    },
    "papermill": {
     "duration": 0.057816,
     "end_time": "2025-06-01T19:11:45.055040",
     "exception": false,
     "start_time": "2025-06-01T19:11:44.997224",
     "status": "completed"
    },
    "tags": []
   },
   "outputs": [],
   "source": [
    "n_train = train_data.shape[0]\n",
    "train_features = torch.tensor(all_features[:n_train].values,dtype=torch.float32)\n",
    "test_features = torch.tensor(all_features[n_train:].values,dtype=torch.float32)\n",
    "train_labels = torch.tensor(train_data.SalePrice.values.reshape(-1,1),dtype=torch.float32)"
   ]
  },
  {
   "cell_type": "code",
   "execution_count": 10,
   "id": "e325cb67",
   "metadata": {
    "execution": {
     "iopub.execute_input": "2025-06-01T19:11:45.065218Z",
     "iopub.status.busy": "2025-06-01T19:11:45.064867Z",
     "iopub.status.idle": "2025-06-01T19:11:45.071979Z",
     "shell.execute_reply": "2025-06-01T19:11:45.070922Z"
    },
    "papermill": {
     "duration": 0.014017,
     "end_time": "2025-06-01T19:11:45.073462",
     "exception": false,
     "start_time": "2025-06-01T19:11:45.059445",
     "status": "completed"
    },
    "tags": []
   },
   "outputs": [
    {
     "name": "stdout",
     "output_type": "stream",
     "text": [
      "331 166\n"
     ]
    }
   ],
   "source": [
    "loss = nn.MSELoss()\n",
    "in_features = train_features.shape[1]\n",
    "num_hiddens = int((1+in_features)/2)\n",
    "dropout = 0\n",
    "print(in_features,num_hiddens)\n",
    "\n",
    "def init_weight(m):\n",
    "    if m.type == nn.Linear:\n",
    "        nn.init.normal_(m.weight,std=0.01)\n",
    "\n",
    "def get_net():\n",
    "    net = nn.Sequential(\n",
    "        nn.Flatten(),\n",
    "        nn.Linear(in_features,num_hiddens),\n",
    "        nn.ReLU(),\n",
    "        nn.Dropout(dropout),\n",
    "        nn.Linear(num_hiddens,1)\n",
    "    )\n",
    "    net.apply(init_weight)\n",
    "    return net"
   ]
  },
  {
   "cell_type": "code",
   "execution_count": 11,
   "id": "218b593e",
   "metadata": {
    "execution": {
     "iopub.execute_input": "2025-06-01T19:11:45.083626Z",
     "iopub.status.busy": "2025-06-01T19:11:45.083274Z",
     "iopub.status.idle": "2025-06-01T19:11:45.089011Z",
     "shell.execute_reply": "2025-06-01T19:11:45.088059Z"
    },
    "papermill": {
     "duration": 0.013256,
     "end_time": "2025-06-01T19:11:45.090956",
     "exception": false,
     "start_time": "2025-06-01T19:11:45.077700",
     "status": "completed"
    },
    "tags": []
   },
   "outputs": [],
   "source": [
    "def log_rmse(net,features,labels):\n",
    "    clipped_preds = torch.clamp(net(features),1,float('inf'))\n",
    "    rmse = torch.sqrt(loss(torch.log(clipped_preds),torch.log(labels)))\n",
    "    return rmse.item()"
   ]
  },
  {
   "cell_type": "code",
   "execution_count": 12,
   "id": "905fd7cd",
   "metadata": {
    "execution": {
     "iopub.execute_input": "2025-06-01T19:11:45.100653Z",
     "iopub.status.busy": "2025-06-01T19:11:45.100276Z",
     "iopub.status.idle": "2025-06-01T19:11:45.107277Z",
     "shell.execute_reply": "2025-06-01T19:11:45.106332Z"
    },
    "papermill": {
     "duration": 0.013711,
     "end_time": "2025-06-01T19:11:45.108880",
     "exception": false,
     "start_time": "2025-06-01T19:11:45.095169",
     "status": "completed"
    },
    "tags": []
   },
   "outputs": [],
   "source": [
    "def train(net,train_features,train_labels,test_features,test_labels,num_epochs,learning_rate,weight_decay,batch_size):\n",
    "    train_ls,test_ls = [],[]\n",
    "    train_set = TensorDataset(train_features,train_labels)\n",
    "    train_iter = DataLoader(train_set,batch_size,shuffle=True)\n",
    "    optimizer = torch.optim.Adam(net.parameters(),lr=learning_rate,weight_decay=weight_decay)\n",
    "    for epoch in range(num_epochs):\n",
    "        for X,y in train_iter:\n",
    "            optimizer.zero_grad()\n",
    "            l = loss(net(X),y)\n",
    "            l.backward()\n",
    "            optimizer.step()\n",
    "        train_ls.append(log_rmse(net,train_features,train_labels))\n",
    "        if test_labels is not None:\n",
    "            test_ls.append(log_rmse(net,test_features,test_labels))\n",
    "    return train_ls,test_ls"
   ]
  },
  {
   "cell_type": "code",
   "execution_count": 13,
   "id": "8109edd0",
   "metadata": {
    "execution": {
     "iopub.execute_input": "2025-06-01T19:11:45.119066Z",
     "iopub.status.busy": "2025-06-01T19:11:45.118783Z",
     "iopub.status.idle": "2025-06-01T19:11:45.125997Z",
     "shell.execute_reply": "2025-06-01T19:11:45.124969Z"
    },
    "papermill": {
     "duration": 0.014324,
     "end_time": "2025-06-01T19:11:45.127648",
     "exception": false,
     "start_time": "2025-06-01T19:11:45.113324",
     "status": "completed"
    },
    "tags": []
   },
   "outputs": [],
   "source": [
    "def get_k_fold_data(k,i,X,y):\n",
    "    assert k>1\n",
    "    fold_size = X.shape[0] // k\n",
    "    X_train,y_train = None,None\n",
    "    for j in range(k):\n",
    "        idx = slice(j*fold_size,(j+1)*fold_size)\n",
    "        X_part,y_part = X[idx,:],y[idx]\n",
    "        if j==i:\n",
    "            X_valid,y_valid = X_part,y_part\n",
    "        elif X_train is None:\n",
    "            X_train,y_train = X_part,y_part\n",
    "        else:\n",
    "            X_train = torch.cat([X_train,X_part],0)\n",
    "            y_train = torch.cat([y_train,y_part],0)\n",
    "    return X_train,y_train,X_valid,y_valid"
   ]
  },
  {
   "cell_type": "code",
   "execution_count": 14,
   "id": "22ea5e86",
   "metadata": {
    "execution": {
     "iopub.execute_input": "2025-06-01T19:11:45.137065Z",
     "iopub.status.busy": "2025-06-01T19:11:45.136746Z",
     "iopub.status.idle": "2025-06-01T19:11:45.143124Z",
     "shell.execute_reply": "2025-06-01T19:11:45.141901Z"
    },
    "papermill": {
     "duration": 0.012912,
     "end_time": "2025-06-01T19:11:45.144790",
     "exception": false,
     "start_time": "2025-06-01T19:11:45.131878",
     "status": "completed"
    },
    "tags": []
   },
   "outputs": [],
   "source": [
    "def plot(train_ls,valid_ls,num_epochs):\n",
    "    plt.plot(range(1,num_epochs+1),train_ls,label='train')\n",
    "    if valid_ls is not None:\n",
    "        plt.plot(range(1,num_epochs+1),valid_ls,label='valid')\n",
    "    plt.legend()\n",
    "    plt.xlabel('epoch')\n",
    "    plt.ylabel('rmse')\n",
    "    plt.xticks(np.arange(0,100,20))\n",
    "    plt.grid(True)\n",
    "    plt.yscale('log')\n",
    "    plt.show()"
   ]
  },
  {
   "cell_type": "code",
   "execution_count": 15,
   "id": "acafd90f",
   "metadata": {
    "execution": {
     "iopub.execute_input": "2025-06-01T19:11:45.155417Z",
     "iopub.status.busy": "2025-06-01T19:11:45.154275Z",
     "iopub.status.idle": "2025-06-01T19:11:45.161994Z",
     "shell.execute_reply": "2025-06-01T19:11:45.161011Z"
    },
    "papermill": {
     "duration": 0.014641,
     "end_time": "2025-06-01T19:11:45.163748",
     "exception": false,
     "start_time": "2025-06-01T19:11:45.149107",
     "status": "completed"
    },
    "tags": []
   },
   "outputs": [],
   "source": [
    "def k_fold(k,X_train,y_train,num_epochs,learning_rate,weight_decay,batch_size):\n",
    "    train_rmse,valid_rmse = [],[]\n",
    "    output = []\n",
    "    for i in range(k):\n",
    "        data = get_k_fold_data(k,i,X_train,y_train)\n",
    "        net = get_net()\n",
    "        train_ls,valid_ls = train(net,*data,num_epochs,learning_rate,weight_decay,batch_size)\n",
    "        for rmse_set,rmse in zip([train_rmse,valid_rmse],[train_ls,valid_ls]):\n",
    "            rmse_set.append(rmse)\n",
    "        print(f'折{i+1},训练log rmse：{float(train_ls[-1]):f}，验证log rmse:{float(valid_ls[-1]):f}')\n",
    "    for rmse_set,i in zip([train_rmse,valid_rmse],[0,1]):\n",
    "        rmse_set = zip(*rmse_set)\n",
    "        output.append([sum(column)/len(column) for column in rmse_set]) \n",
    "    return output[0],output[1]"
   ]
  },
  {
   "cell_type": "code",
   "execution_count": 16,
   "id": "879e2c0b",
   "metadata": {
    "execution": {
     "iopub.execute_input": "2025-06-01T19:11:45.173268Z",
     "iopub.status.busy": "2025-06-01T19:11:45.172969Z",
     "iopub.status.idle": "2025-06-01T19:12:18.241615Z",
     "shell.execute_reply": "2025-06-01T19:12:18.240485Z"
    },
    "papermill": {
     "duration": 33.075772,
     "end_time": "2025-06-01T19:12:18.243626",
     "exception": false,
     "start_time": "2025-06-01T19:11:45.167854",
     "status": "completed"
    },
    "tags": []
   },
   "outputs": [
    {
     "name": "stdout",
     "output_type": "stream",
     "text": [
      "折1,训练log rmse：0.005586，验证log rmse:0.018012\n",
      "折2,训练log rmse：0.005812，验证log rmse:0.027609\n",
      "折3,训练log rmse：0.005475，验证log rmse:0.022077\n",
      "折4,训练log rmse：0.017210，验证log rmse:0.020995\n",
      "折5,训练log rmse：0.008525，验证log rmse:0.035414\n"
     ]
    },
    {
     "data": {
      "image/png": "[encoded data removed]",
      "text/plain": [
       "<Figure size 640x480 with 1 Axes>"
      ]
     },
     "metadata": {},
     "output_type": "display_data"
    },
    {
     "name": "stdout",
     "output_type": "stream",
     "text": [
      "5-折验证：平均训练log rmse：0.008522，平均验证log rmse：0.024821\n"
     ]
    }
   ],
   "source": [
    "k,num_epochs,lr,weight_decay,batch_size = 5,100,0.4,0.5,64\n",
    "train_l,valid_l = k_fold(k,train_features,train_labels,num_epochs,lr,weight_decay,batch_size)\n",
    "plot(train_l,valid_l,num_epochs)\n",
    "print(f'{k}-折验证：平均训练log rmse：{float(train_l[-1]):f}，平均验证log rmse：{float(valid_l[-1]):f}')"
   ]
  },
  {
   "cell_type": "code",
   "execution_count": 17,
   "id": "14780b72",
   "metadata": {
    "execution": {
     "iopub.execute_input": "2025-06-01T19:12:18.256476Z",
     "iopub.status.busy": "2025-06-01T19:12:18.256045Z",
     "iopub.status.idle": "2025-06-01T19:12:18.262488Z",
     "shell.execute_reply": "2025-06-01T19:12:18.261678Z"
    },
    "papermill": {
     "duration": 0.015002,
     "end_time": "2025-06-01T19:12:18.264159",
     "exception": false,
     "start_time": "2025-06-01T19:12:18.249157",
     "status": "completed"
    },
    "tags": []
   },
   "outputs": [],
   "source": [
    "def train_and_pred(train_features,test_features,train_labels,test_data,num_epochs,lr,weight_decay,batch_size):\n",
    "    net = get_net()\n",
    "    train_ls,_ = train(net,train_features,train_labels,None,None,num_epochs,lr,weight_decay,batch_size)\n",
    "    plot(train_ls,None,num_epochs)\n",
    "    print(f'训练log rmse：{float(train_ls[-1]):f}')\n",
    "    preds = net(test_features).detach().numpy()\n",
    "    test_data['SalePrice'] = pd.Series(preds.reshape(1,-1)[0])\n",
    "    submission = pd.concat([test_data['Id'],test_data['SalePrice']],axis=1)\n",
    "    submission.to_csv('submission.csv',index=False)"
   ]
  },
  {
   "cell_type": "code",
   "execution_count": 18,
   "id": "ee9f5db8",
   "metadata": {
    "execution": {
     "iopub.execute_input": "2025-06-01T19:12:18.275868Z",
     "iopub.status.busy": "2025-06-01T19:12:18.275565Z",
     "iopub.status.idle": "2025-06-01T19:12:25.778101Z",
     "shell.execute_reply": "2025-06-01T19:12:25.777088Z"
    },
    "papermill": {
     "duration": 7.510643,
     "end_time": "2025-06-01T19:12:25.780068",
     "exception": false,
     "start_time": "2025-06-01T19:12:18.269425",
     "status": "completed"
    },
    "tags": []
   },
   "outputs": [
    {
     "data": {
      "image/png": "[encoded data removed]",
      "text/plain": [
       "<Figure size 640x480 with 1 Axes>"
      ]
     },
     "metadata": {},
     "output_type": "display_data"
    },
    {
     "name": "stdout",
     "output_type": "stream",
     "text": [
      "训练log rmse：0.005520\n"
     ]
    }
   ],
   "source": [
    "train_and_pred(train_features,test_features,train_labels,test_data,num_epochs,lr,weight_decay,batch_size)"
   ]
  },
  {
   "cell_type": "code",
   "execution_count": 19,
   "id": "03b31f1c",
   "metadata": {
    "execution": {
     "iopub.execute_input": "2025-06-01T19:12:25.793708Z",
     "iopub.status.busy": "2025-06-01T19:12:25.792795Z",
     "iopub.status.idle": "2025-06-01T19:12:25.797324Z",
     "shell.execute_reply": "2025-06-01T19:12:25.796322Z"
    },
    "papermill": {
     "duration": 0.012869,
     "end_time": "2025-06-01T19:12:25.799003",
     "exception": false,
     "start_time": "2025-06-01T19:12:25.786134",
     "status": "completed"
    },
    "tags": []
   },
   "outputs": [],
   "source": [
    "# sub = pd.read_csv('submission.csv')\n",
    "# print(sub)"
   ]
  }
 ],
 "metadata": {
  "kaggle": {
   "accelerator": "none",
   "dataSources": [
    {
     "databundleVersionId": 868283,
     "sourceId": 5407,
     "sourceType": "competition"
    }
   ],
   "dockerImageVersionId": 31040,
   "isGpuEnabled": false,
   "isInternetEnabled": true,
   "language": "python",
   "sourceType": "notebook"
  },
  "kernelspec": {
   "display_name": "Python 3",
   "language": "python",
   "name": "python3"
  },
  "language_info": {
   "codemirror_mode": {
    "name": "ipython",
    "version": 3
   },
   "file_extension": ".py",
   "mimetype": "text/x-python",
   "name": "python",
   "nbconvert_exporter": "python",
   "pygments_lexer": "ipython3",
   "version": "3.11.11"
  },
  "papermill": {
   "default_parameters": {},
   "duration": 57.29303,
   "end_time": "2025-06-01T19:12:28.730870",
   "environment_variables": {},
   "exception": null,
   "input_path": "__notebook__.ipynb",
   "output_path": "__notebook__.ipynb",
   "parameters": {},
   "start_time": "2025-06-01T19:11:31.437840",
   "version": "2.6.0"
  }
 },
 "nbformat": 4,
 "nbformat_minor": 5
}
