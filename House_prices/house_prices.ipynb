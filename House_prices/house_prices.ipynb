{
 "cells": [
  {
   "cell_type": "code",
   "execution_count": 1,
   "id": "2c7242f0",
   "metadata": {
    "_cell_guid": "b1076dfc-b9ad-4769-8c92-a6c4dae69d19",
    "_uuid": "8f2839f25d086af736a60e9eeb907d3b93b6e0e5",
    "execution": {
     "iopub.execute_input": "2025-06-01T16:37:59.005192Z",
     "iopub.status.busy": "2025-06-01T16:37:59.004627Z",
     "iopub.status.idle": "2025-06-01T16:38:07.050382Z",
     "shell.execute_reply": "2025-06-01T16:38:07.048852Z"
    },
    "papermill": {
     "duration": 8.053861,
     "end_time": "2025-06-01T16:38:07.052179",
     "exception": false,
     "start_time": "2025-06-01T16:37:58.998318",
     "status": "completed"
    },
    "tags": []
   },
   "outputs": [
    {
     "name": "stdout",
     "output_type": "stream",
     "text": [
      "/kaggle/input/house-prices-advanced-regression-techniques/sample_submission.csv\n",
      "/kaggle/input/house-prices-advanced-regression-techniques/data_description.txt\n",
      "/kaggle/input/house-prices-advanced-regression-techniques/train.csv\n",
      "/kaggle/input/house-prices-advanced-regression-techniques/test.csv\n"
     ]
    }
   ],
   "source": [
    "import numpy as np \n",
    "import pandas as pd \n",
    "import torch\n",
    "from torch.utils.data import DataLoader,TensorDataset\n",
    "from torch import nn\n",
    "import matplotlib.pyplot as plt\n",
    "import os\n",
    "for dirname, _, filenames in os.walk('/kaggle/input'):\n",
    "    for filename in filenames:\n",
    "        print(os.path.join(dirname, filename))"
   ]
  },
  {
   "cell_type": "code",
   "execution_count": 2,
   "id": "9c33286d",
   "metadata": {
    "execution": {
     "iopub.execute_input": "2025-06-01T16:38:07.062045Z",
     "iopub.status.busy": "2025-06-01T16:38:07.061579Z",
     "iopub.status.idle": "2025-06-01T16:38:07.146122Z",
     "shell.execute_reply": "2025-06-01T16:38:07.145017Z"
    },
    "papermill": {
     "duration": 0.091483,
     "end_time": "2025-06-01T16:38:07.148086",
     "exception": false,
     "start_time": "2025-06-01T16:38:07.056603",
     "status": "completed"
    },
    "tags": []
   },
   "outputs": [],
   "source": [
    "train_data = pd.read_csv('/kaggle/input/house-prices-advanced-regression-techniques/train.csv')\n",
    "test_data = pd.read_csv('/kaggle/input/house-prices-advanced-regression-techniques/test.csv')"
   ]
  },
  {
   "cell_type": "code",
   "execution_count": 3,
   "id": "8d26d6f0",
   "metadata": {
    "execution": {
     "iopub.execute_input": "2025-06-01T16:38:07.157524Z",
     "iopub.status.busy": "2025-06-01T16:38:07.157171Z",
     "iopub.status.idle": "2025-06-01T16:38:07.163050Z",
     "shell.execute_reply": "2025-06-01T16:38:07.161954Z"
    },
    "papermill": {
     "duration": 0.012748,
     "end_time": "2025-06-01T16:38:07.165042",
     "exception": false,
     "start_time": "2025-06-01T16:38:07.152294",
     "status": "completed"
    },
    "tags": []
   },
   "outputs": [
    {
     "name": "stdout",
     "output_type": "stream",
     "text": [
      "(1460, 81)\n",
      "(1459, 80)\n"
     ]
    }
   ],
   "source": [
    "print(train_data.shape)\n",
    "print(test_data.shape)"
   ]
  },
  {
   "cell_type": "code",
   "execution_count": 4,
   "id": "e0803ed1",
   "metadata": {
    "execution": {
     "iopub.execute_input": "2025-06-01T16:38:07.174315Z",
     "iopub.status.busy": "2025-06-01T16:38:07.173940Z",
     "iopub.status.idle": "2025-06-01T16:38:07.201589Z",
     "shell.execute_reply": "2025-06-01T16:38:07.200441Z"
    },
    "papermill": {
     "duration": 0.034495,
     "end_time": "2025-06-01T16:38:07.203538",
     "exception": false,
     "start_time": "2025-06-01T16:38:07.169043",
     "status": "completed"
    },
    "tags": []
   },
   "outputs": [
    {
     "name": "stdout",
     "output_type": "stream",
     "text": [
      "   Id  MSSubClass MSZoning  LotFrontage  LotArea Street Alley LotShape  \\\n",
      "0   1          60       RL         65.0     8450   Pave   NaN      Reg   \n",
      "1   2          20       RL         80.0     9600   Pave   NaN      Reg   \n",
      "2   3          60       RL         68.0    11250   Pave   NaN      IR1   \n",
      "3   4          70       RL         60.0     9550   Pave   NaN      IR1   \n",
      "4   5          60       RL         84.0    14260   Pave   NaN      IR1   \n",
      "\n",
      "  LandContour Utilities  ... PoolArea PoolQC Fence MiscFeature MiscVal MoSold  \\\n",
      "0         Lvl    AllPub  ...        0    NaN   NaN         NaN       0      2   \n",
      "1         Lvl    AllPub  ...        0    NaN   NaN         NaN       0      5   \n",
      "2         Lvl    AllPub  ...        0    NaN   NaN         NaN       0      9   \n",
      "3         Lvl    AllPub  ...        0    NaN   NaN         NaN       0      2   \n",
      "4         Lvl    AllPub  ...        0    NaN   NaN         NaN       0     12   \n",
      "\n",
      "  YrSold  SaleType  SaleCondition  SalePrice  \n",
      "0   2008        WD         Normal     208500  \n",
      "1   2007        WD         Normal     181500  \n",
      "2   2008        WD         Normal     223500  \n",
      "3   2006        WD        Abnorml     140000  \n",
      "4   2008        WD         Normal     250000  \n",
      "\n",
      "[5 rows x 81 columns]\n"
     ]
    }
   ],
   "source": [
    "print(train_data[:5])"
   ]
  },
  {
   "cell_type": "code",
   "execution_count": 5,
   "id": "0f190f8b",
   "metadata": {
    "execution": {
     "iopub.execute_input": "2025-06-01T16:38:07.213004Z",
     "iopub.status.busy": "2025-06-01T16:38:07.212703Z",
     "iopub.status.idle": "2025-06-01T16:38:07.228067Z",
     "shell.execute_reply": "2025-06-01T16:38:07.226823Z"
    },
    "papermill": {
     "duration": 0.022181,
     "end_time": "2025-06-01T16:38:07.230049",
     "exception": false,
     "start_time": "2025-06-01T16:38:07.207868",
     "status": "completed"
    },
    "tags": []
   },
   "outputs": [],
   "source": [
    "all_features = pd.concat((train_data.iloc[:,1:],test_data.iloc[:,1:]))"
   ]
  },
  {
   "cell_type": "code",
   "execution_count": 6,
   "id": "f879b11d",
   "metadata": {
    "execution": {
     "iopub.execute_input": "2025-06-01T16:38:07.239824Z",
     "iopub.status.busy": "2025-06-01T16:38:07.239474Z",
     "iopub.status.idle": "2025-06-01T16:38:07.245351Z",
     "shell.execute_reply": "2025-06-01T16:38:07.244095Z"
    },
    "papermill": {
     "duration": 0.012847,
     "end_time": "2025-06-01T16:38:07.247279",
     "exception": false,
     "start_time": "2025-06-01T16:38:07.234432",
     "status": "completed"
    },
    "tags": []
   },
   "outputs": [
    {
     "name": "stdout",
     "output_type": "stream",
     "text": [
      "(2919, 80)\n"
     ]
    }
   ],
   "source": [
    "print(all_features.shape)"
   ]
  },
  {
   "cell_type": "code",
   "execution_count": 7,
   "id": "864ea64b",
   "metadata": {
    "execution": {
     "iopub.execute_input": "2025-06-01T16:38:07.257470Z",
     "iopub.status.busy": "2025-06-01T16:38:07.257086Z",
     "iopub.status.idle": "2025-06-01T16:38:07.290121Z",
     "shell.execute_reply": "2025-06-01T16:38:07.289024Z"
    },
    "papermill": {
     "duration": 0.040026,
     "end_time": "2025-06-01T16:38:07.292036",
     "exception": false,
     "start_time": "2025-06-01T16:38:07.252010",
     "status": "completed"
    },
    "tags": []
   },
   "outputs": [],
   "source": [
    "numeric_features = all_features.dtypes[all_features.dtypes != 'object'].index\n",
    "all_features[numeric_features] = all_features[numeric_features].apply(lambda x: (x-x.mean())/x.std())\n",
    "all_features[numeric_features] = all_features[numeric_features].fillna(0)"
   ]
  },
  {
   "cell_type": "code",
   "execution_count": 8,
   "id": "90ed6f07",
   "metadata": {
    "execution": {
     "iopub.execute_input": "2025-06-01T16:38:07.302628Z",
     "iopub.status.busy": "2025-06-01T16:38:07.301967Z",
     "iopub.status.idle": "2025-06-01T16:38:07.361339Z",
     "shell.execute_reply": "2025-06-01T16:38:07.360090Z"
    },
    "papermill": {
     "duration": 0.066296,
     "end_time": "2025-06-01T16:38:07.362952",
     "exception": false,
     "start_time": "2025-06-01T16:38:07.296656",
     "status": "completed"
    },
    "tags": []
   },
   "outputs": [
    {
     "name": "stdout",
     "output_type": "stream",
     "text": [
      "(2919, 331)\n"
     ]
    }
   ],
   "source": [
    "all_features = pd.get_dummies(all_features,dummy_na=True)\n",
    "all_features = all_features.astype(np.float32)\n",
    "print(all_features.shape)"
   ]
  },
  {
   "cell_type": "code",
   "execution_count": 9,
   "id": "ff3fe1f4",
   "metadata": {
    "execution": {
     "iopub.execute_input": "2025-06-01T16:38:07.372577Z",
     "iopub.status.busy": "2025-06-01T16:38:07.372279Z",
     "iopub.status.idle": "2025-06-01T16:38:07.423778Z",
     "shell.execute_reply": "2025-06-01T16:38:07.422868Z"
    },
    "papermill": {
     "duration": 0.05823,
     "end_time": "2025-06-01T16:38:07.425536",
     "exception": false,
     "start_time": "2025-06-01T16:38:07.367306",
     "status": "completed"
    },
    "tags": []
   },
   "outputs": [],
   "source": [
    "n_train = train_data.shape[0]\n",
    "train_features = torch.tensor(all_features[:n_train].values,dtype=torch.float32)\n",
    "test_features = torch.tensor(all_features[n_train:].values,dtype=torch.float32)\n",
    "train_labels = torch.tensor(train_data.SalePrice.values.reshape(-1,1),dtype=torch.float32)"
   ]
  },
  {
   "cell_type": "code",
   "execution_count": 10,
   "id": "e5f6a75a",
   "metadata": {
    "execution": {
     "iopub.execute_input": "2025-06-01T16:38:07.435887Z",
     "iopub.status.busy": "2025-06-01T16:38:07.435522Z",
     "iopub.status.idle": "2025-06-01T16:38:07.441844Z",
     "shell.execute_reply": "2025-06-01T16:38:07.440847Z"
    },
    "papermill": {
     "duration": 0.013317,
     "end_time": "2025-06-01T16:38:07.443588",
     "exception": false,
     "start_time": "2025-06-01T16:38:07.430271",
     "status": "completed"
    },
    "tags": []
   },
   "outputs": [],
   "source": [
    "loss = nn.MSELoss()\n",
    "in_features = train_features.shape[1]\n",
    "\n",
    "def get_net():\n",
    "    net = nn.Sequential(nn.Linear(in_features,1))\n",
    "    return net"
   ]
  },
  {
   "cell_type": "code",
   "execution_count": 11,
   "id": "49532894",
   "metadata": {
    "execution": {
     "iopub.execute_input": "2025-06-01T16:38:07.453549Z",
     "iopub.status.busy": "2025-06-01T16:38:07.453245Z",
     "iopub.status.idle": "2025-06-01T16:38:07.459130Z",
     "shell.execute_reply": "2025-06-01T16:38:07.458004Z"
    },
    "papermill": {
     "duration": 0.01323,
     "end_time": "2025-06-01T16:38:07.461125",
     "exception": false,
     "start_time": "2025-06-01T16:38:07.447895",
     "status": "completed"
    },
    "tags": []
   },
   "outputs": [],
   "source": [
    "def log_rmse(net,features,labels):\n",
    "    clipped_preds = torch.clamp(net(features),1,float('inf'))\n",
    "    rmse = torch.sqrt(loss(torch.log(clipped_preds),torch.log(labels)))\n",
    "    return rmse.item()"
   ]
  },
  {
   "cell_type": "code",
   "execution_count": 12,
   "id": "19c6c7ec",
   "metadata": {
    "execution": {
     "iopub.execute_input": "2025-06-01T16:38:07.470765Z",
     "iopub.status.busy": "2025-06-01T16:38:07.470479Z",
     "iopub.status.idle": "2025-06-01T16:38:07.477209Z",
     "shell.execute_reply": "2025-06-01T16:38:07.476313Z"
    },
    "papermill": {
     "duration": 0.013827,
     "end_time": "2025-06-01T16:38:07.479238",
     "exception": false,
     "start_time": "2025-06-01T16:38:07.465411",
     "status": "completed"
    },
    "tags": []
   },
   "outputs": [],
   "source": [
    "def train(net,train_features,train_labels,test_features,test_labels,num_epochs,learning_rate,weight_decay,batch_size):\n",
    "    train_ls,test_ls = [],[]\n",
    "    train_set = TensorDataset(train_features,train_labels)\n",
    "    train_iter = DataLoader(train_set,batch_size,shuffle=True)\n",
    "    optimizer = torch.optim.Adam(net.parameters(),lr=learning_rate,weight_decay=weight_decay)\n",
    "    for epoch in range(num_epochs):\n",
    "        for X,y in train_iter:\n",
    "            optimizer.zero_grad()\n",
    "            l = loss(net(X),y)\n",
    "            l.backward()\n",
    "            optimizer.step()\n",
    "        train_ls.append(log_rmse(net,train_features,train_labels))\n",
    "        if test_labels is not None:\n",
    "            test_ls.append(log_rmse(net,test_features,test_labels))\n",
    "    return train_ls,test_ls"
   ]
  },
  {
   "cell_type": "code",
   "execution_count": 13,
   "id": "c4c816cb",
   "metadata": {
    "execution": {
     "iopub.execute_input": "2025-06-01T16:38:07.489008Z",
     "iopub.status.busy": "2025-06-01T16:38:07.488713Z",
     "iopub.status.idle": "2025-06-01T16:38:07.495488Z",
     "shell.execute_reply": "2025-06-01T16:38:07.494606Z"
    },
    "papermill": {
     "duration": 0.01343,
     "end_time": "2025-06-01T16:38:07.497029",
     "exception": false,
     "start_time": "2025-06-01T16:38:07.483599",
     "status": "completed"
    },
    "tags": []
   },
   "outputs": [],
   "source": [
    "def get_k_fold_data(k,i,X,y):\n",
    "    assert k>1\n",
    "    fold_size = X.shape[0] // k\n",
    "    X_train,y_train = None,None\n",
    "    for j in range(k):\n",
    "        idx = slice(j*fold_size,(j+1)*fold_size)\n",
    "        X_part,y_part = X[idx,:],y[idx]\n",
    "        if j==i:\n",
    "            X_valid,y_valid = X_part,y_part\n",
    "        elif X_train is None:\n",
    "            X_train,y_train = X_part,y_part\n",
    "        else:\n",
    "            X_train = torch.cat([X_train,X_part],0)\n",
    "            y_train = torch.cat([y_train,y_part],0)\n",
    "    return X_train,y_train,X_valid,y_valid"
   ]
  },
  {
   "cell_type": "code",
   "execution_count": 14,
   "id": "57e6b289",
   "metadata": {
    "execution": {
     "iopub.execute_input": "2025-06-01T16:38:07.506693Z",
     "iopub.status.busy": "2025-06-01T16:38:07.506368Z",
     "iopub.status.idle": "2025-06-01T16:38:07.513043Z",
     "shell.execute_reply": "2025-06-01T16:38:07.511963Z"
    },
    "papermill": {
     "duration": 0.013812,
     "end_time": "2025-06-01T16:38:07.515130",
     "exception": false,
     "start_time": "2025-06-01T16:38:07.501318",
     "status": "completed"
    },
    "tags": []
   },
   "outputs": [],
   "source": [
    "def plot(train_ls,valid_ls,num_epochs):\n",
    "    if valid_ls is not None:\n",
    "        plt.plot(range(1,num_epochs+1),valid_ls,label='valid')\n",
    "        plt.legend()\n",
    "    plt.plot(range(1,num_epochs+1),train_ls,label='train')\n",
    "    plt.xlabel('epoch')\n",
    "    plt.ylabel('rmse')\n",
    "    plt.xticks(np.arange(0,100,20))\n",
    "    plt.grid(True)\n",
    "    plt.yscale('log')\n",
    "    plt.show()"
   ]
  },
  {
   "cell_type": "code",
   "execution_count": 15,
   "id": "e394c94d",
   "metadata": {
    "execution": {
     "iopub.execute_input": "2025-06-01T16:38:07.525053Z",
     "iopub.status.busy": "2025-06-01T16:38:07.524709Z",
     "iopub.status.idle": "2025-06-01T16:38:07.531163Z",
     "shell.execute_reply": "2025-06-01T16:38:07.530213Z"
    },
    "papermill": {
     "duration": 0.013558,
     "end_time": "2025-06-01T16:38:07.533109",
     "exception": false,
     "start_time": "2025-06-01T16:38:07.519551",
     "status": "completed"
    },
    "tags": []
   },
   "outputs": [],
   "source": [
    "def k_fold(k,X_train,y_train,num_epochs,learning_rate,weight_decay,batch_size):\n",
    "    train_l_sum,valid_l_sum = 0,0\n",
    "    for i in range(k):\n",
    "        data = get_k_fold_data(k,i,X_train,y_train)\n",
    "        net = get_net()\n",
    "        train_ls,valid_ls = train(net,*data,num_epochs,learning_rate,weight_decay,batch_size)\n",
    "        train_l_sum += train_ls[-1]\n",
    "        valid_l_sum += valid_ls[-1]\n",
    "        if i==0:\n",
    "            plot(train_ls,valid_ls,num_epochs)\n",
    "        print(f'折{i+1},训练log rmse：{float(train_ls[-1]):f}，验证log rmse:{float(valid_ls[-1]):f}')\n",
    "    return train_l_sum/k,valid_l_sum/k"
   ]
  },
  {
   "cell_type": "code",
   "execution_count": 16,
   "id": "e1f8c102",
   "metadata": {
    "execution": {
     "iopub.execute_input": "2025-06-01T16:38:07.543378Z",
     "iopub.status.busy": "2025-06-01T16:38:07.543034Z",
     "iopub.status.idle": "2025-06-01T16:38:28.944826Z",
     "shell.execute_reply": "2025-06-01T16:38:28.943425Z"
    },
    "papermill": {
     "duration": 21.409167,
     "end_time": "2025-06-01T16:38:28.946874",
     "exception": false,
     "start_time": "2025-06-01T16:38:07.537707",
     "status": "completed"
    },
    "tags": []
   },
   "outputs": [
    {
     "data": {
      "image/png": "[encoded data removed]",
      "text/plain": [
       "<Figure size 640x480 with 1 Axes>"
      ]
     },
     "metadata": {},
     "output_type": "display_data"
    },
    {
     "name": "stdout",
     "output_type": "stream",
     "text": [
      "折1,训练log rmse：0.160793，验证log rmse:0.146317\n",
      "折2,训练log rmse：0.151361，验证log rmse:0.183675\n",
      "折3,训练log rmse：0.151912，验证log rmse:0.155288\n",
      "折4,训练log rmse：0.157671，验证log rmse:0.143795\n",
      "折5,训练log rmse：0.154160，验证log rmse:0.171937\n",
      "5-折验证：平均训练log rmse：0.155180，平均验证log rmse：0.160202\n"
     ]
    }
   ],
   "source": [
    "k,num_epochs,lr,weight_decay,batch_size = 5,100,5,0,64\n",
    "train_l,valid_l = k_fold(k,train_features,train_labels,num_epochs,lr,weight_decay,batch_size)\n",
    "print(f'{k}-折验证：平均训练log rmse：{float(train_l):f}，平均验证log rmse：{float(valid_l):f}')"
   ]
  },
  {
   "cell_type": "code",
   "execution_count": 17,
   "id": "fe6be062",
   "metadata": {
    "execution": {
     "iopub.execute_input": "2025-06-01T16:38:28.959412Z",
     "iopub.status.busy": "2025-06-01T16:38:28.958946Z",
     "iopub.status.idle": "2025-06-01T16:38:28.966015Z",
     "shell.execute_reply": "2025-06-01T16:38:28.964711Z"
    },
    "papermill": {
     "duration": 0.014975,
     "end_time": "2025-06-01T16:38:28.967974",
     "exception": false,
     "start_time": "2025-06-01T16:38:28.952999",
     "status": "completed"
    },
    "tags": []
   },
   "outputs": [],
   "source": [
    "def train_and_pred(train_features,test_features,train_labels,test_data,num_epochs,lr,weight_decay,batch_size):\n",
    "    net = get_net()\n",
    "    train_ls,_ = train(net,train_features,train_labels,None,None,num_epochs,lr,weight_decay,batch_size)\n",
    "    plot(train_ls,None,num_epochs)\n",
    "    print(f'训练log rmse：{float(train_ls[-1]):f}')\n",
    "    preds = net(test_features).detach().numpy()\n",
    "    test_data['SalePrice'] = pd.Series(preds.reshape(1,-1)[0])\n",
    "    submission = pd.concat([test_data['Id'],test_data['SalePrice']],axis=1)\n",
    "    submission.to_csv('submission.csv',index=False)"
   ]
  },
  {
   "cell_type": "code",
   "execution_count": 18,
   "id": "c3092f3f",
   "metadata": {
    "execution": {
     "iopub.execute_input": "2025-06-01T16:38:28.980246Z",
     "iopub.status.busy": "2025-06-01T16:38:28.979880Z",
     "iopub.status.idle": "2025-06-01T16:38:33.154815Z",
     "shell.execute_reply": "2025-06-01T16:38:33.153553Z"
    },
    "papermill": {
     "duration": 4.183045,
     "end_time": "2025-06-01T16:38:33.156520",
     "exception": false,
     "start_time": "2025-06-01T16:38:28.973475",
     "status": "completed"
    },
    "tags": []
   },
   "outputs": [
    {
     "data": {
      "image/png": "[encoded data removed]",
      "text/plain": [
       "<Figure size 640x480 with 1 Axes>"
      ]
     },
     "metadata": {},
     "output_type": "display_data"
    },
    {
     "name": "stdout",
     "output_type": "stream",
     "text": [
      "训练log rmse：0.150313\n"
     ]
    }
   ],
   "source": [
    "train_and_pred(train_features,test_features,train_labels,test_data,num_epochs,lr,weight_decay,batch_size)"
   ]
  },
  {
   "cell_type": "code",
   "execution_count": 19,
   "id": "2b83f79c",
   "metadata": {
    "execution": {
     "iopub.execute_input": "2025-06-01T16:38:33.169508Z",
     "iopub.status.busy": "2025-06-01T16:38:33.169175Z",
     "iopub.status.idle": "2025-06-01T16:38:33.180080Z",
     "shell.execute_reply": "2025-06-01T16:38:33.178769Z"
    },
    "papermill": {
     "duration": 0.019616,
     "end_time": "2025-06-01T16:38:33.181926",
     "exception": false,
     "start_time": "2025-06-01T16:38:33.162310",
     "status": "completed"
    },
    "tags": []
   },
   "outputs": [
    {
     "name": "stdout",
     "output_type": "stream",
     "text": [
      "        Id   SalePrice\n",
      "0     1461  124105.350\n",
      "1     1462  155772.450\n",
      "2     1463  197189.030\n",
      "3     1464  214402.420\n",
      "4     1465  177141.660\n",
      "...    ...         ...\n",
      "1454  2915   82386.780\n",
      "1455  2916   92281.234\n",
      "1456  2917  207060.440\n",
      "1457  2918  112349.110\n",
      "1458  2919  236611.690\n",
      "\n",
      "[1459 rows x 2 columns]\n"
     ]
    }
   ],
   "source": [
    "sub = pd.read_csv('submission.csv')\n",
    "print(sub)"
   ]
  }
 ],
 "metadata": {
  "kaggle": {
   "accelerator": "none",
   "dataSources": [
    {
     "databundleVersionId": 868283,
     "sourceId": 5407,
     "sourceType": "competition"
    }
   ],
   "dockerImageVersionId": 31040,
   "isGpuEnabled": false,
   "isInternetEnabled": true,
   "language": "python",
   "sourceType": "notebook"
  },
  "kernelspec": {
   "display_name": "Python 3",
   "language": "python",
   "name": "python3"
  },
  "language_info": {
   "codemirror_mode": {
    "name": "ipython",
    "version": 3
   },
   "file_extension": ".py",
   "mimetype": "text/x-python",
   "name": "python",
   "nbconvert_exporter": "python",
   "pygments_lexer": "ipython3",
   "version": "3.11.11"
  },
  "papermill": {
   "default_parameters": {},
   "duration": 43.47568,
   "end_time": "2025-06-01T16:38:36.745192",
   "environment_variables": {},
   "exception": null,
   "input_path": "__notebook__.ipynb",
   "output_path": "__notebook__.ipynb",
   "parameters": {},
   "start_time": "2025-06-01T16:37:53.269512",
   "version": "2.6.0"
  }
 },
 "nbformat": 4,
 "nbformat_minor": 5
}
