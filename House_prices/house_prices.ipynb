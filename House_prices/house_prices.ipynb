{
 "cells": [
  {
   "cell_type": "code",
   "execution_count": 1,
   "id": "95664bff",
   "metadata": {
    "_cell_guid": "b1076dfc-b9ad-4769-8c92-a6c4dae69d19",
    "_uuid": "8f2839f25d086af736a60e9eeb907d3b93b6e0e5",
    "execution": {
     "iopub.execute_input": "2025-06-01T19:44:47.985615Z",
     "iopub.status.busy": "2025-06-01T19:44:47.984856Z",
     "iopub.status.idle": "2025-06-01T19:44:55.279197Z",
     "shell.execute_reply": "2025-06-01T19:44:55.277825Z"
    },
    "papermill": {
     "duration": 7.302187,
     "end_time": "2025-06-01T19:44:55.280780",
     "exception": false,
     "start_time": "2025-06-01T19:44:47.978593",
     "status": "completed"
    },
    "tags": []
   },
   "outputs": [
    {
     "name": "stdout",
     "output_type": "stream",
     "text": [
      "/kaggle/input/house-prices-advanced-regression-techniques/sample_submission.csv\n",
      "/kaggle/input/house-prices-advanced-regression-techniques/data_description.txt\n",
      "/kaggle/input/house-prices-advanced-regression-techniques/train.csv\n",
      "/kaggle/input/house-prices-advanced-regression-techniques/test.csv\n"
     ]
    }
   ],
   "source": [
    "import numpy as np \n",
    "import pandas as pd \n",
    "import torch\n",
    "from torch.utils.data import DataLoader,TensorDataset\n",
    "from torch import nn\n",
    "import matplotlib.pyplot as plt\n",
    "import os\n",
    "for dirname, _, filenames in os.walk('/kaggle/input'):\n",
    "    for filename in filenames:\n",
    "        print(os.path.join(dirname, filename))"
   ]
  },
  {
   "cell_type": "code",
   "execution_count": 2,
   "id": "ce35f712",
   "metadata": {
    "execution": {
     "iopub.execute_input": "2025-06-01T19:44:55.289800Z",
     "iopub.status.busy": "2025-06-01T19:44:55.289369Z",
     "iopub.status.idle": "2025-06-01T19:44:55.381743Z",
     "shell.execute_reply": "2025-06-01T19:44:55.380770Z"
    },
    "papermill": {
     "duration": 0.098971,
     "end_time": "2025-06-01T19:44:55.383785",
     "exception": false,
     "start_time": "2025-06-01T19:44:55.284814",
     "status": "completed"
    },
    "tags": []
   },
   "outputs": [],
   "source": [
    "train_data = pd.read_csv('/kaggle/input/house-prices-advanced-regression-techniques/train.csv')\n",
    "test_data = pd.read_csv('/kaggle/input/house-prices-advanced-regression-techniques/test.csv')"
   ]
  },
  {
   "cell_type": "code",
   "execution_count": 3,
   "id": "778875e9",
   "metadata": {
    "execution": {
     "iopub.execute_input": "2025-06-01T19:44:55.392878Z",
     "iopub.status.busy": "2025-06-01T19:44:55.392523Z",
     "iopub.status.idle": "2025-06-01T19:44:55.398387Z",
     "shell.execute_reply": "2025-06-01T19:44:55.397219Z"
    },
    "papermill": {
     "duration": 0.012349,
     "end_time": "2025-06-01T19:44:55.400154",
     "exception": false,
     "start_time": "2025-06-01T19:44:55.387805",
     "status": "completed"
    },
    "tags": []
   },
   "outputs": [
    {
     "name": "stdout",
     "output_type": "stream",
     "text": [
      "(1460, 81)\n",
      "(1459, 80)\n"
     ]
    }
   ],
   "source": [
    "print(train_data.shape)\n",
    "print(test_data.shape)"
   ]
  },
  {
   "cell_type": "code",
   "execution_count": 4,
   "id": "b3ad2129",
   "metadata": {
    "execution": {
     "iopub.execute_input": "2025-06-01T19:44:55.409653Z",
     "iopub.status.busy": "2025-06-01T19:44:55.409333Z",
     "iopub.status.idle": "2025-06-01T19:44:55.436137Z",
     "shell.execute_reply": "2025-06-01T19:44:55.435060Z"
    },
    "papermill": {
     "duration": 0.033486,
     "end_time": "2025-06-01T19:44:55.437791",
     "exception": false,
     "start_time": "2025-06-01T19:44:55.404305",
     "status": "completed"
    },
    "tags": []
   },
   "outputs": [
    {
     "name": "stdout",
     "output_type": "stream",
     "text": [
      "   Id  MSSubClass MSZoning  LotFrontage  LotArea Street Alley LotShape  \\\n",
      "0   1          60       RL         65.0     8450   Pave   NaN      Reg   \n",
      "1   2          20       RL         80.0     9600   Pave   NaN      Reg   \n",
      "2   3          60       RL         68.0    11250   Pave   NaN      IR1   \n",
      "3   4          70       RL         60.0     9550   Pave   NaN      IR1   \n",
      "4   5          60       RL         84.0    14260   Pave   NaN      IR1   \n",
      "\n",
      "  LandContour Utilities  ... PoolArea PoolQC Fence MiscFeature MiscVal MoSold  \\\n",
      "0         Lvl    AllPub  ...        0    NaN   NaN         NaN       0      2   \n",
      "1         Lvl    AllPub  ...        0    NaN   NaN         NaN       0      5   \n",
      "2         Lvl    AllPub  ...        0    NaN   NaN         NaN       0      9   \n",
      "3         Lvl    AllPub  ...        0    NaN   NaN         NaN       0      2   \n",
      "4         Lvl    AllPub  ...        0    NaN   NaN         NaN       0     12   \n",
      "\n",
      "  YrSold  SaleType  SaleCondition  SalePrice  \n",
      "0   2008        WD         Normal     208500  \n",
      "1   2007        WD         Normal     181500  \n",
      "2   2008        WD         Normal     223500  \n",
      "3   2006        WD        Abnorml     140000  \n",
      "4   2008        WD         Normal     250000  \n",
      "\n",
      "[5 rows x 81 columns]\n"
     ]
    }
   ],
   "source": [
    "print(train_data[:5])"
   ]
  },
  {
   "cell_type": "code",
   "execution_count": 5,
   "id": "1f0f8166",
   "metadata": {
    "execution": {
     "iopub.execute_input": "2025-06-01T19:44:55.447857Z",
     "iopub.status.busy": "2025-06-01T19:44:55.447531Z",
     "iopub.status.idle": "2025-06-01T19:44:55.461226Z",
     "shell.execute_reply": "2025-06-01T19:44:55.460228Z"
    },
    "papermill": {
     "duration": 0.020858,
     "end_time": "2025-06-01T19:44:55.462925",
     "exception": false,
     "start_time": "2025-06-01T19:44:55.442067",
     "status": "completed"
    },
    "tags": []
   },
   "outputs": [],
   "source": [
    "all_features = pd.concat((train_data.iloc[:,1:],test_data.iloc[:,1:]))"
   ]
  },
  {
   "cell_type": "code",
   "execution_count": 6,
   "id": "3410f382",
   "metadata": {
    "execution": {
     "iopub.execute_input": "2025-06-01T19:44:55.472096Z",
     "iopub.status.busy": "2025-06-01T19:44:55.471763Z",
     "iopub.status.idle": "2025-06-01T19:44:55.476780Z",
     "shell.execute_reply": "2025-06-01T19:44:55.475706Z"
    },
    "papermill": {
     "duration": 0.011159,
     "end_time": "2025-06-01T19:44:55.478295",
     "exception": false,
     "start_time": "2025-06-01T19:44:55.467136",
     "status": "completed"
    },
    "tags": []
   },
   "outputs": [
    {
     "name": "stdout",
     "output_type": "stream",
     "text": [
      "(2919, 80)\n"
     ]
    }
   ],
   "source": [
    "print(all_features.shape)"
   ]
  },
  {
   "cell_type": "code",
   "execution_count": 7,
   "id": "df7e5cbe",
   "metadata": {
    "execution": {
     "iopub.execute_input": "2025-06-01T19:44:55.487135Z",
     "iopub.status.busy": "2025-06-01T19:44:55.486835Z",
     "iopub.status.idle": "2025-06-01T19:44:55.514489Z",
     "shell.execute_reply": "2025-06-01T19:44:55.513652Z"
    },
    "papermill": {
     "duration": 0.033902,
     "end_time": "2025-06-01T19:44:55.516190",
     "exception": false,
     "start_time": "2025-06-01T19:44:55.482288",
     "status": "completed"
    },
    "tags": []
   },
   "outputs": [],
   "source": [
    "numeric_features = all_features.dtypes[all_features.dtypes != 'object'].index\n",
    "all_features[numeric_features] = all_features[numeric_features].apply(lambda x: (x-x.mean())/x.std())\n",
    "all_features[numeric_features] = all_features[numeric_features].fillna(0)"
   ]
  },
  {
   "cell_type": "code",
   "execution_count": 8,
   "id": "1e1c36e8",
   "metadata": {
    "execution": {
     "iopub.execute_input": "2025-06-01T19:44:55.525112Z",
     "iopub.status.busy": "2025-06-01T19:44:55.524759Z",
     "iopub.status.idle": "2025-06-01T19:44:55.580116Z",
     "shell.execute_reply": "2025-06-01T19:44:55.579057Z"
    },
    "papermill": {
     "duration": 0.061598,
     "end_time": "2025-06-01T19:44:55.581735",
     "exception": false,
     "start_time": "2025-06-01T19:44:55.520137",
     "status": "completed"
    },
    "tags": []
   },
   "outputs": [
    {
     "name": "stdout",
     "output_type": "stream",
     "text": [
      "(2919, 331)\n"
     ]
    }
   ],
   "source": [
    "all_features = pd.get_dummies(all_features,dummy_na=True)\n",
    "all_features = all_features.astype(np.float32)\n",
    "print(all_features.shape)"
   ]
  },
  {
   "cell_type": "code",
   "execution_count": 9,
   "id": "546acb53",
   "metadata": {
    "execution": {
     "iopub.execute_input": "2025-06-01T19:44:55.590603Z",
     "iopub.status.busy": "2025-06-01T19:44:55.590334Z",
     "iopub.status.idle": "2025-06-01T19:44:55.634552Z",
     "shell.execute_reply": "2025-06-01T19:44:55.633758Z"
    },
    "papermill": {
     "duration": 0.050412,
     "end_time": "2025-06-01T19:44:55.636137",
     "exception": false,
     "start_time": "2025-06-01T19:44:55.585725",
     "status": "completed"
    },
    "tags": []
   },
   "outputs": [],
   "source": [
    "n_train = train_data.shape[0]\n",
    "train_features = torch.tensor(all_features[:n_train].values,dtype=torch.float32)\n",
    "test_features = torch.tensor(all_features[n_train:].values,dtype=torch.float32)\n",
    "train_labels = torch.tensor(train_data.SalePrice.values.reshape(-1,1),dtype=torch.float32)"
   ]
  },
  {
   "cell_type": "code",
   "execution_count": 10,
   "id": "634ebfcc",
   "metadata": {
    "execution": {
     "iopub.execute_input": "2025-06-01T19:44:55.645513Z",
     "iopub.status.busy": "2025-06-01T19:44:55.645153Z",
     "iopub.status.idle": "2025-06-01T19:44:55.650694Z",
     "shell.execute_reply": "2025-06-01T19:44:55.649794Z"
    },
    "papermill": {
     "duration": 0.011819,
     "end_time": "2025-06-01T19:44:55.652107",
     "exception": false,
     "start_time": "2025-06-01T19:44:55.640288",
     "status": "completed"
    },
    "tags": []
   },
   "outputs": [],
   "source": [
    "loss = nn.MSELoss()\n",
    "in_features = train_features.shape[1]\n",
    "\n",
    "def init_weight(m):\n",
    "    if m.type == nn.Linear:\n",
    "        nn.init.normal_(m.weight,std=0.01)\n",
    "\n",
    "def get_net():\n",
    "    net = nn.Sequential(\n",
    "        nn.Linear(in_features,1),\n",
    "    )\n",
    "    net.apply(init_weight)\n",
    "    return net"
   ]
  },
  {
   "cell_type": "code",
   "execution_count": 11,
   "id": "4deeac79",
   "metadata": {
    "execution": {
     "iopub.execute_input": "2025-06-01T19:44:55.661560Z",
     "iopub.status.busy": "2025-06-01T19:44:55.661229Z",
     "iopub.status.idle": "2025-06-01T19:44:55.666165Z",
     "shell.execute_reply": "2025-06-01T19:44:55.665273Z"
    },
    "papermill": {
     "duration": 0.01134,
     "end_time": "2025-06-01T19:44:55.667718",
     "exception": false,
     "start_time": "2025-06-01T19:44:55.656378",
     "status": "completed"
    },
    "tags": []
   },
   "outputs": [],
   "source": [
    "def log_rmse(net,features,labels):\n",
    "    clipped_preds = torch.clamp(net(features),1,float('inf'))\n",
    "    rmse = torch.sqrt(loss(torch.log(clipped_preds),torch.log(labels)))\n",
    "    return rmse.item()"
   ]
  },
  {
   "cell_type": "code",
   "execution_count": 12,
   "id": "e28bd92a",
   "metadata": {
    "execution": {
     "iopub.execute_input": "2025-06-01T19:44:55.676782Z",
     "iopub.status.busy": "2025-06-01T19:44:55.676477Z",
     "iopub.status.idle": "2025-06-01T19:44:55.682864Z",
     "shell.execute_reply": "2025-06-01T19:44:55.682012Z"
    },
    "papermill": {
     "duration": 0.012445,
     "end_time": "2025-06-01T19:44:55.684177",
     "exception": false,
     "start_time": "2025-06-01T19:44:55.671732",
     "status": "completed"
    },
    "tags": []
   },
   "outputs": [],
   "source": [
    "def train(net,train_features,train_labels,test_features,test_labels,num_epochs,learning_rate,weight_decay,batch_size):\n",
    "    train_ls,test_ls = [],[]\n",
    "    train_set = TensorDataset(train_features,train_labels)\n",
    "    train_iter = DataLoader(train_set,batch_size,shuffle=True)\n",
    "    optimizer = torch.optim.Adam(net.parameters(),lr=learning_rate,weight_decay=weight_decay)\n",
    "    for epoch in range(num_epochs):\n",
    "        for X,y in train_iter:\n",
    "            optimizer.zero_grad()\n",
    "            l = loss(net(X),y)\n",
    "            l.backward()\n",
    "            optimizer.step()\n",
    "        train_ls.append(log_rmse(net,train_features,train_labels))\n",
    "        if test_labels is not None:\n",
    "            test_ls.append(log_rmse(net,test_features,test_labels))\n",
    "    return train_ls,test_ls"
   ]
  },
  {
   "cell_type": "code",
   "execution_count": 13,
   "id": "7f7424a4",
   "metadata": {
    "execution": {
     "iopub.execute_input": "2025-06-01T19:44:55.693628Z",
     "iopub.status.busy": "2025-06-01T19:44:55.693099Z",
     "iopub.status.idle": "2025-06-01T19:44:55.699781Z",
     "shell.execute_reply": "2025-06-01T19:44:55.698531Z"
    },
    "papermill": {
     "duration": 0.013315,
     "end_time": "2025-06-01T19:44:55.701483",
     "exception": false,
     "start_time": "2025-06-01T19:44:55.688168",
     "status": "completed"
    },
    "tags": []
   },
   "outputs": [],
   "source": [
    "def get_k_fold_data(k,i,X,y):\n",
    "    assert k>1\n",
    "    fold_size = X.shape[0] // k\n",
    "    X_train,y_train = None,None\n",
    "    for j in range(k):\n",
    "        idx = slice(j*fold_size,(j+1)*fold_size)\n",
    "        X_part,y_part = X[idx,:],y[idx]\n",
    "        if j==i:\n",
    "            X_valid,y_valid = X_part,y_part\n",
    "        elif X_train is None:\n",
    "            X_train,y_train = X_part,y_part\n",
    "        else:\n",
    "            X_train = torch.cat([X_train,X_part],0)\n",
    "            y_train = torch.cat([y_train,y_part],0)\n",
    "    return X_train,y_train,X_valid,y_valid"
   ]
  },
  {
   "cell_type": "code",
   "execution_count": 14,
   "id": "3edb07f5",
   "metadata": {
    "execution": {
     "iopub.execute_input": "2025-06-01T19:44:55.710552Z",
     "iopub.status.busy": "2025-06-01T19:44:55.710243Z",
     "iopub.status.idle": "2025-06-01T19:44:55.716115Z",
     "shell.execute_reply": "2025-06-01T19:44:55.715205Z"
    },
    "papermill": {
     "duration": 0.012253,
     "end_time": "2025-06-01T19:44:55.717765",
     "exception": false,
     "start_time": "2025-06-01T19:44:55.705512",
     "status": "completed"
    },
    "tags": []
   },
   "outputs": [],
   "source": [
    "def plot(train_ls,valid_ls,num_epochs):\n",
    "    plt.plot(range(1,num_epochs+1),train_ls,label='train')\n",
    "    if valid_ls is not None:\n",
    "        plt.plot(range(1,num_epochs+1),valid_ls,label='valid')\n",
    "    plt.legend()\n",
    "    plt.xlabel('epoch')\n",
    "    plt.ylabel('rmse')\n",
    "    plt.xticks(np.arange(0,num_epochs,20))\n",
    "    plt.grid(True)\n",
    "    plt.yscale('log')\n",
    "    plt.show()"
   ]
  },
  {
   "cell_type": "code",
   "execution_count": 15,
   "id": "7f3adf2c",
   "metadata": {
    "execution": {
     "iopub.execute_input": "2025-06-01T19:44:55.726952Z",
     "iopub.status.busy": "2025-06-01T19:44:55.726654Z",
     "iopub.status.idle": "2025-06-01T19:44:55.733229Z",
     "shell.execute_reply": "2025-06-01T19:44:55.732475Z"
    },
    "papermill": {
     "duration": 0.012889,
     "end_time": "2025-06-01T19:44:55.734672",
     "exception": false,
     "start_time": "2025-06-01T19:44:55.721783",
     "status": "completed"
    },
    "tags": []
   },
   "outputs": [],
   "source": [
    "def k_fold(k,X_train,y_train,num_epochs,learning_rate,weight_decay,batch_size):\n",
    "    train_rmse,valid_rmse = [],[]\n",
    "    output = []\n",
    "    for i in range(k):\n",
    "        data = get_k_fold_data(k,i,X_train,y_train)\n",
    "        net = get_net()\n",
    "        train_ls,valid_ls = train(net,*data,num_epochs,learning_rate,weight_decay,batch_size)\n",
    "        for rmse_set,rmse in zip([train_rmse,valid_rmse],[train_ls,valid_ls]):\n",
    "            rmse_set.append(rmse)\n",
    "        print(f'折{i+1},训练log rmse：{float(train_ls[-1]):f}，验证log rmse:{float(valid_ls[-1]):f}')\n",
    "    for rmse_set,i in zip([train_rmse,valid_rmse],[0,1]):\n",
    "        rmse_set = zip(*rmse_set)\n",
    "        output.append([sum(column)/len(column) for column in rmse_set]) \n",
    "    return output[0],output[1]"
   ]
  },
  {
   "cell_type": "code",
   "execution_count": 16,
   "id": "a0cf9fda",
   "metadata": {
    "execution": {
     "iopub.execute_input": "2025-06-01T19:44:55.743865Z",
     "iopub.status.busy": "2025-06-01T19:44:55.743563Z",
     "iopub.status.idle": "2025-06-01T19:46:53.100772Z",
     "shell.execute_reply": "2025-06-01T19:46:53.099892Z"
    },
    "papermill": {
     "duration": 117.363526,
     "end_time": "2025-06-01T19:46:53.102096",
     "exception": false,
     "start_time": "2025-06-01T19:44:55.738570",
     "status": "completed"
    },
    "tags": []
   },
   "outputs": [
    {
     "name": "stdout",
     "output_type": "stream",
     "text": [
      "折1,训练log rmse：0.138989，验证log rmse:0.136434\n",
      "折2,训练log rmse：0.134872，验证log rmse:0.150290\n",
      "折3,训练log rmse：0.132322，验证log rmse:0.138108\n",
      "折4,训练log rmse：0.137974，验证log rmse:0.132874\n",
      "折5,训练log rmse：0.131945，验证log rmse:0.160382\n"
     ]
    },
    {
     "data": {
      "image/png": "[encoded data removed]",
      "text/plain": [
       "<Figure size 640x480 with 1 Axes>"
      ]
     },
     "metadata": {},
     "output_type": "display_data"
    },
    {
     "name": "stdout",
     "output_type": "stream",
     "text": [
      "5-折验证：平均训练log rmse：0.135220，平均验证log rmse：0.143618\n"
     ]
    }
   ],
   "source": [
    "k,num_epochs,lr,weight_decay,batch_size = 5,1000,0.5,0,64\n",
    "train_l,valid_l = k_fold(k,train_features,train_labels,num_epochs,lr,weight_decay,batch_size)\n",
    "plot(train_l,valid_l,num_epochs)\n",
    "print(f'{k}-折验证：平均训练log rmse：{float(train_l[-1]):f}，平均验证log rmse：{float(valid_l[-1]):f}')"
   ]
  },
  {
   "cell_type": "code",
   "execution_count": 17,
   "id": "75b1fec4",
   "metadata": {
    "execution": {
     "iopub.execute_input": "2025-06-01T19:46:53.113527Z",
     "iopub.status.busy": "2025-06-01T19:46:53.112719Z",
     "iopub.status.idle": "2025-06-01T19:46:53.119106Z",
     "shell.execute_reply": "2025-06-01T19:46:53.118268Z"
    },
    "papermill": {
     "duration": 0.013518,
     "end_time": "2025-06-01T19:46:53.120497",
     "exception": false,
     "start_time": "2025-06-01T19:46:53.106979",
     "status": "completed"
    },
    "tags": []
   },
   "outputs": [],
   "source": [
    "def train_and_pred(train_features,test_features,train_labels,test_data,num_epochs,lr,weight_decay,batch_size):\n",
    "    net = get_net()\n",
    "    train_ls,_ = train(net,train_features,train_labels,None,None,num_epochs,lr,weight_decay,batch_size)\n",
    "    plot(train_ls,None,num_epochs)\n",
    "    print(f'训练log rmse：{float(train_ls[-1]):f}')\n",
    "    preds = net(test_features).detach().numpy()\n",
    "    test_data['SalePrice'] = pd.Series(preds.reshape(1,-1)[0])\n",
    "    submission = pd.concat([test_data['Id'],test_data['SalePrice']],axis=1)\n",
    "    submission.to_csv('submission.csv',index=False)"
   ]
  },
  {
   "cell_type": "code",
   "execution_count": 18,
   "id": "ff0a9f23",
   "metadata": {
    "execution": {
     "iopub.execute_input": "2025-06-01T19:46:53.130685Z",
     "iopub.status.busy": "2025-06-01T19:46:53.130419Z",
     "iopub.status.idle": "2025-06-01T19:47:24.446754Z",
     "shell.execute_reply": "2025-06-01T19:47:24.445775Z"
    },
    "papermill": {
     "duration": 31.322984,
     "end_time": "2025-06-01T19:47:24.448181",
     "exception": false,
     "start_time": "2025-06-01T19:46:53.125197",
     "status": "completed"
    },
    "tags": []
   },
   "outputs": [
    {
     "data": {
      "image/png": "[encoded data removed]",
      "text/plain": [
       "<Figure size 640x480 with 1 Axes>"
      ]
     },
     "metadata": {},
     "output_type": "display_data"
    },
    {
     "name": "stdout",
     "output_type": "stream",
     "text": [
      "训练log rmse：0.125911\n"
     ]
    }
   ],
   "source": [
    "train_and_pred(train_features,test_features,train_labels,test_data,num_epochs,lr,weight_decay,batch_size)"
   ]
  },
  {
   "cell_type": "code",
   "execution_count": 19,
   "id": "4d5f18d4",
   "metadata": {
    "execution": {
     "iopub.execute_input": "2025-06-01T19:47:24.460128Z",
     "iopub.status.busy": "2025-06-01T19:47:24.459786Z",
     "iopub.status.idle": "2025-06-01T19:47:24.463718Z",
     "shell.execute_reply": "2025-06-01T19:47:24.462816Z"
    },
    "papermill": {
     "duration": 0.011541,
     "end_time": "2025-06-01T19:47:24.465224",
     "exception": false,
     "start_time": "2025-06-01T19:47:24.453683",
     "status": "completed"
    },
    "tags": []
   },
   "outputs": [],
   "source": [
    "# sub = pd.read_csv('submission.csv')\n",
    "# print(sub)"
   ]
  }
 ],
 "metadata": {
  "kaggle": {
   "accelerator": "none",
   "dataSources": [
    {
     "databundleVersionId": 868283,
     "sourceId": 5407,
     "sourceType": "competition"
    }
   ],
   "dockerImageVersionId": 31040,
   "isGpuEnabled": false,
   "isInternetEnabled": true,
   "language": "python",
   "sourceType": "notebook"
  },
  "kernelspec": {
   "display_name": "Python 3",
   "language": "python",
   "name": "python3"
  },
  "language_info": {
   "codemirror_mode": {
    "name": "ipython",
    "version": 3
   },
   "file_extension": ".py",
   "mimetype": "text/x-python",
   "name": "python",
   "nbconvert_exporter": "python",
   "pygments_lexer": "ipython3",
   "version": "3.11.11"
  },
  "papermill": {
   "default_parameters": {},
   "duration": 164.18038,
   "end_time": "2025-06-01T19:47:27.502458",
   "environment_variables": {},
   "exception": null,
   "input_path": "__notebook__.ipynb",
   "output_path": "__notebook__.ipynb",
   "parameters": {},
   "start_time": "2025-06-01T19:44:43.322078",
   "version": "2.6.0"
  }
 },
 "nbformat": 4,
 "nbformat_minor": 5
}
